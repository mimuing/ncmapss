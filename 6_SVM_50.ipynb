{
 "cells": [
  {
   "cell_type": "code",
   "execution_count": 15,
   "metadata": {},
   "outputs": [],
   "source": [
    "import pandas as pd\n",
    "import os\n",
    "import numpy as np\n",
    "import matplotlib.pyplot as plt\n",
    "from sklearn.preprocessing import MinMaxScaler\n",
    "import seaborn as sns\n",
    "from sklearn.model_selection import train_test_split\n",
    "from sklearn.preprocessing import StandardScaler, MinMaxScaler\n",
    "from sklearn.svm import SVC\n",
    "from sklearn.metrics import classification_report\n",
    "from sklearn.metrics import confusion_matrix\n",
    "from sklearn.model_selection import GridSearchCV, cross_val_score\n",
    "from sklearn.model_selection import RandomizedSearchCV\n",
    "from scipy.stats import reciprocal, uniform"
   ]
  },
  {
   "cell_type": "code",
   "execution_count": 16,
   "metadata": {},
   "outputs": [
    {
     "data": {
      "text/plain": [
       "['df_prp_f_0.csv',\n",
       " 'df_prp_f_1.csv',\n",
       " 'df_prp_f_2.csv',\n",
       " 'df_prp_f_3.csv',\n",
       " 'df_prp_f_4.csv',\n",
       " 'df_prp_f_5.csv',\n",
       " 'df_prp_f_6.csv',\n",
       " 'df_prp_f_7.csv',\n",
       " 'df_prp_f_8.csv']"
      ]
     },
     "execution_count": 16,
     "metadata": {},
     "output_type": "execute_result"
    }
   ],
   "source": [
    "# file load & merge\n",
    "directory_path = './final_prpdata_1st/'\n",
    "file_names = [f for f in os.listdir(directory_path) if f.endswith('.csv')]\n",
    "file_names = sorted(file_names)\n",
    "file_names"
   ]
  },
  {
   "cell_type": "code",
   "execution_count": 18,
   "metadata": {},
   "outputs": [],
   "source": [
    "# file load & merge\n",
    "directory_path = './final_prpdata_1st 2/'\n",
    "file_names = [f for f in os.listdir(directory_path) if f.endswith('.csv')]\n",
    "file_names = sorted(file_names)\n",
    "dataframes = [pd.read_csv(os.path.join(directory_path, file_name)) for file_name in file_names]\n",
    "df_prpdata_all = pd.concat(dataframes, ignore_index=True)\n",
    "# f_mode 컬럼 추가\n",
    "df_best50 = df_prpdata_all.copy()\n",
    "conditions = [\n",
    "    (df_best50['hpt_yn'] == 1) & (df_best50['lpt_yn'] == 0) & (df_best50['fan_yn'] == 0) & (df_best50['hpc_yn'] == 0) & (df_best50['lpc_yn'] == 0),\n",
    "    (df_best50['hpt_yn'] == 1) & (df_best50['lpt_yn'] == 1) & (df_best50['fan_yn'] == 0) & (df_best50['hpc_yn'] == 0) & (df_best50['lpc_yn'] == 0),\n",
    "    (df_best50['hpt_yn'] == 0) & (df_best50['lpt_yn'] == 0) & (df_best50['fan_yn'] == 1) & (df_best50['hpc_yn'] == 0) & (df_best50['lpc_yn'] == 0),\n",
    "    (df_best50['hpt_yn'] == 0) & (df_best50['lpt_yn'] == 0) & (df_best50['fan_yn'] == 0) & (df_best50['hpc_yn'] == 1) & (df_best50['lpc_yn'] == 0),\n",
    "    (df_best50['hpt_yn'] == 0) & (df_best50['lpt_yn'] == 0) & (df_best50['fan_yn'] == 0) & (df_best50['hpc_yn'] == 1) & (df_best50['lpc_yn'] == 1),\n",
    "    (df_best50['hpt_yn'] == 0) & (df_best50['lpt_yn'] == 1) & (df_best50['fan_yn'] == 0) & (df_best50['hpc_yn'] == 0) & (df_best50['lpc_yn'] == 0),\n",
    "    (df_best50['hpt_yn'] == 1) & (df_best50['lpt_yn'] == 1) & (df_best50['fan_yn'] == 1) & (df_best50['hpc_yn'] == 1) & (df_best50['lpc_yn'] == 1),\n",
    "    (df_best50['hpt_yn'] == 0) & (df_best50['lpt_yn'] == 0) & (df_best50['fan_yn'] == 0) & (df_best50['hpc_yn'] == 0) & (df_best50['lpc_yn'] == 0),\n",
    "]\n",
    "failurMode = ['hpt', 'hpt+lpt', 'fan', 'hpc', 'hpc+lpc', 'lpt', 'all', 'healthy']\n",
    "df_best50[\"f_mode\"] = np.select(conditions, failurMode, default='None')"
   ]
  },
  {
   "cell_type": "code",
   "execution_count": 19,
   "metadata": {},
   "outputs": [
    {
     "data": {
      "text/plain": [
       "(6920, 538)"
      ]
     },
     "execution_count": 19,
     "metadata": {},
     "output_type": "execute_result"
    }
   ],
   "source": [
    "df_best50.shape"
   ]
  },
  {
   "cell_type": "code",
   "execution_count": 20,
   "metadata": {},
   "outputs": [
    {
     "data": {
      "text/plain": [
       "f_mode\n",
       "healthy    2109\n",
       "hpt+lpt     987\n",
       "hpt         823\n",
       "all         675\n",
       "fan         672\n",
       "hpc+lpc     556\n",
       "hpc         553\n",
       "lpt         545\n",
       "Name: count, dtype: int64"
      ]
     },
     "execution_count": 20,
     "metadata": {},
     "output_type": "execute_result"
    }
   ],
   "source": [
    "df_best50['f_mode'].value_counts()"
   ]
  },
  {
   "cell_type": "code",
   "execution_count": 21,
   "metadata": {},
   "outputs": [],
   "source": [
    "featureNamesBest50WANOVA =['climb_hpt_hpc_press_mean',\n",
    " 'climb_hpt_hpc_press_ratio_mean',\n",
    " 'climb_hpt_entry_press_ratio_mean',\n",
    " 'climb_RUL',\n",
    " 'climb_hpt_hpc_press_min',\n",
    " 'climb_hpt_hpc_press_ratio_max',\n",
    " 'cruise_hpt_entry_temp_drop_mean',\n",
    " 'climb_hpt_entry_press_ratio_max',\n",
    " 'climb_hpt_entry_temp_drop_mean',\n",
    " 'cruise_hpt_hpc_press_mean',\n",
    " 'cruise_hpt_entry_press_ratio_mean',\n",
    " 'cruise_hpt_hpc_press_ratio_mean',\n",
    " 'climb_hpt_hpc_temp_mean',\n",
    " 'climb_hpt_hpc_temp_ratio_mean',\n",
    " 'cruise_hpt_entry_press_ratio_max',\n",
    " 'cruise_hpt_hpc_press_min',\n",
    " 'cruise_hpt_hpc_press_ratio_max',\n",
    " 'cruise_SmHPC_mean',\n",
    " 'climb_hpt_entry_press_ratio_min',\n",
    " 'climb_hpt_hpc_press_ratio_min',\n",
    " 'climb_hpt_hpc_press_max',\n",
    " 'climb_fan_exit_press_min',\n",
    " 'climb_P50_std',\n",
    " 'climb_hpt_entry_temp_drop_min',\n",
    " 'climb_SmHPC_mean',\n",
    " 'climb_SmFan_mean',\n",
    " 'climb_SmLPC_max',\n",
    " 'climb_Mach_std',\n",
    " 'climb_hpc_lpc_temp_max',\n",
    " 'climb_hpc_lpc_temp_ratio_max',\n",
    " 'climb_alt_min',\n",
    " 'cruise_hpt_hpc_temp_ratio_mean',\n",
    " 'cruise_hpt_hpc_temp_mean',\n",
    " 'climb_T30_max',\n",
    " 'climb_hpt_hpc_temp_max',\n",
    " 'climb_P2_std',\n",
    " 'cruise_SmLPC_mean',\n",
    " 'climb_hpt_entry_temp_drop_max',\n",
    " 'climb_P21_std',\n",
    " 'climb_P15_std',\n",
    " 'cruise_hpt_entry_temp_drop_min',\n",
    " 'climb_W22_std',\n",
    " 'climb_W25_std',\n",
    " 'climb_W31_std',\n",
    " 'climb_W32_std',\n",
    " 'climb_W50_std',\n",
    " 'climb_W48_std',\n",
    " 'climb_P40_std',\n",
    " 'climb_P30_std',\n",
    " 'climb_Ps30_std']\n",
    "\n",
    "add_featureNamesBest50WANOVA = featureNamesBest50WANOVA.copy()\n",
    "# add_featureNamesBest50WANOVA.append('fileNo')\n",
    "add_featureNamesBest50WANOVA.append('unit')\n",
    "add_featureNamesBest50WANOVA.append('cycle')"
   ]
  },
  {
   "cell_type": "code",
   "execution_count": 22,
   "metadata": {},
   "outputs": [],
   "source": [
    "ds01_test_unitNo = ((df_best50.fileNo == 0) & (df_best50.unit.isin([7,8,9,10])))\n",
    "ds02_test_unitNo = ((df_best50.fileNo == 1) & (df_best50.unit.isin([11,14,15])))\n",
    "ds03_test_unitNo = ((df_best50.fileNo == 2) & (df_best50.unit.isin([10,11,12,13,14,15])))\n",
    "ds04_test_unitNo = ((df_best50.fileNo == 3) & (df_best50.unit.isin([7,8,9,10])))\n",
    "ds05_test_unitNo = ((df_best50.fileNo == 4) & (df_best50.unit.isin([7,8,9,10])))\n",
    "ds06_test_unitNo = ((df_best50.fileNo == 5) & (df_best50.unit.isin([7,8,9,10])))\n",
    "ds07_test_unitNo = ((df_best50.fileNo == 6) & (df_best50.unit.isin([7,8,9,10])))\n",
    "ds08a_test_unitNo = ((df_best50.fileNo == 7) & (df_best50.unit.isin([10,11,12,13,14,15])))\n",
    "ds08c_test_unitNo = ((df_best50.fileNo == 8) & (df_best50.unit.isin([7,8,9,10])))\n",
    "\n",
    "# 데이터 준비\n",
    "train_set = df_best50.loc[~(ds01_test_unitNo | ds02_test_unitNo | ds03_test_unitNo | ds04_test_unitNo | ds05_test_unitNo | ds06_test_unitNo | ds07_test_unitNo | ds08a_test_unitNo | ds08c_test_unitNo)]\n",
    "test_set = df_best50.loc[(ds01_test_unitNo | ds02_test_unitNo | ds03_test_unitNo | ds04_test_unitNo | ds05_test_unitNo | ds06_test_unitNo | ds07_test_unitNo | ds08a_test_unitNo | ds08c_test_unitNo)]\n",
    "\n",
    "train_set = train_set.loc[train_set.unit != 0]\n",
    "test_set = test_set.loc[test_set.unit != 0]\n",
    "\n",
    "# print(train_set.f_mode.value_counts())\n",
    "# print(test_set.f_mode.value_counts())"
   ]
  },
  {
   "cell_type": "code",
   "execution_count": 25,
   "metadata": {},
   "outputs": [],
   "source": [
    "X_full_train = train_set.drop('f_mode', axis=1)[add_featureNamesBest50WANOVA].reset_index(drop=True)\n",
    "y_full_train = train_set['f_mode'].reset_index(drop=True)\n",
    "X_full_test = test_set.drop('f_mode', axis=1)[add_featureNamesBest50WANOVA].reset_index(drop=True)\n",
    "y_full_test = test_set['f_mode'].reset_index(drop=True)\n",
    "\n",
    "# 데이터 전처리_Scaling 준비\n",
    "scaler = MinMaxScaler()\n",
    "scaler.fit(X_full_train[featureNamesBest50WANOVA])\n",
    "\n",
    "X_train_scaled = scaler.transform(X_full_train[featureNamesBest50WANOVA])\n",
    "X_test = scaler.transform(X_full_test[featureNamesBest50WANOVA])"
   ]
  },
  {
   "cell_type": "code",
   "execution_count": 28,
   "metadata": {},
   "outputs": [
    {
     "name": "stdout",
     "output_type": "stream",
     "text": [
      "              precision    recall  f1-score   support\n",
      "\n",
      "         all       0.85      0.77      0.81       261\n",
      "         fan       0.90      0.88      0.89       265\n",
      "     healthy       0.85      0.84      0.85       855\n",
      "         hpc       0.90      0.89      0.89       215\n",
      "     hpc+lpc       0.87      0.86      0.86       222\n",
      "         hpt       0.90      0.89      0.90       230\n",
      "     hpt+lpt       0.81      0.92      0.87       408\n",
      "         lpt       0.96      0.91      0.94       231\n",
      "\n",
      "    accuracy                           0.87      2687\n",
      "   macro avg       0.88      0.87      0.87      2687\n",
      "weighted avg       0.87      0.87      0.87      2687\n",
      "\n"
     ]
    },
    {
     "data": {
      "image/png": "[encoded data removed]",
      "text/plain": [
       "<Figure size 1000x700 with 2 Axes>"
      ]
     },
     "metadata": {},
     "output_type": "display_data"
    }
   ],
   "source": [
    "\n",
    "# 모델 학습 {'C': 100, 'gamma': 'scale', 'kernel': 'poly'}\n",
    "model = SVC(C=100.0, gamma='scale', kernel='rbf')\n",
    "model.fit(X_train_scaled, y_full_train)\n",
    "\n",
    "# 예측 및 평가:\n",
    "predictions = model.predict(X_test)\n",
    "print(classification_report(y_full_test,predictions))\n",
    "\n",
    "\n",
    "# f_mode 클래스 \n",
    "f_mode_category = ['all', 'fan', 'healthy', 'hpc', 'hpc+lpc', 'hpt', 'hpt+lpt', 'lpt']\n",
    "df_best50['f_mode'] = pd.Categorical(df_best50['f_mode'], categories=f_mode_category, ordered=True)\n",
    "class_names = df_best50['f_mode'].cat.categories\n",
    "\n",
    "# confusion matrix 생성 \n",
    "cm = confusion_matrix(y_full_test,predictions)\n",
    "\n",
    "# Heatmap으로 시각화  \n",
    "plt.figure(figsize=(10,7))\n",
    "sns.heatmap(cm,\n",
    "            annot=True,\n",
    "            fmt=\"d\",\n",
    "            cmap='Blues',\n",
    "            xticklabels=class_names,\n",
    "            yticklabels=class_names)\n",
    "plt.xlabel('Predicted')\n",
    "plt.ylabel('Truth')\n",
    "plt.show()\n"
   ]
  }
 ],
 "metadata": {
  "kernelspec": {
   "display_name": "python3.8",
   "language": "python",
   "name": "python3"
  },
  "language_info": {
   "codemirror_mode": {
    "name": "ipython",
    "version": 3
   },
   "file_extension": ".py",
   "mimetype": "text/x-python",
   "name": "python",
   "nbconvert_exporter": "python",
   "pygments_lexer": "ipython3",
   "version": "3.8.18"
  }
 },
 "nbformat": 4,
 "nbformat_minor": 2
}
